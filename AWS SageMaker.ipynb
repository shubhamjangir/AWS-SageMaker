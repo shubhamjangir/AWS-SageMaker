{
 "cells": [
  {
   "cell_type": "markdown",
   "id": "7b8cc58a",
   "metadata": {},
   "source": [
    "# AWS SageMaker"
   ]
  },
  {
   "cell_type": "markdown",
   "id": "60e3f219",
   "metadata": {},
   "source": [
    "Amazon SageMaker is a cloud machine-learning platform that was launched in November 2017. SageMaker enables developers to create, train, and deploy machine-learning models in the cloud."
   ]
  },
  {
   "cell_type": "markdown",
   "id": "e4690dd9",
   "metadata": {},
   "source": [
    "### How it Works?"
   ]
  },
  {
   "cell_type": "markdown",
   "id": "46446a0a",
   "metadata": {},
   "source": [
    "Label-Labeling jobs for highly accurate training datasets within Amazon SageMaker, using active learning and human labeling.     \n",
    "Process of tagging and detecting data samples. Process of attaching meaning to the data.     \n",
    "Raw data --> Labelling -->Lablers(choose from different workforce)-->Assistive labelling-->Accurate Training Model     \n",
    "Improves data label accuracy, Easy to use, Reduces cost by 70% and Choose your Workforce.   \n",
    "\n",
    "Build-Connect to other AWS services and transform data in Amazon SageMaker notebooks.    \n",
    "Train-Use Amazon SageMaker's algorithms and frameworks, or bring your own, for distributed training.    \n",
    "Tune-Amazon SageMaker automatically tunes your model by adjusting multiple combinations of algorithm parameters.   \n",
    "Deploy-Once training is completed, models can be deployed to Amazon SageMaker endpoints, for real-time predictions.   "
   ]
  },
  {
   "cell_type": "markdown",
   "id": "a08fdbe4",
   "metadata": {},
   "source": [
    "### Benefits and Features"
   ]
  },
  {
   "cell_type": "markdown",
   "id": "a048a06d",
   "metadata": {},
   "source": [
    "Labeling raw data with active learning- Continuosly learn and improve between machine and human.     \n",
    "Highly accurate training datasets-Active learning models from Amazon SageMaker Ground Truth provide a very high level of consistency and accuracy for training datasets.     \n",
    "Fully managed notebook instances-For training data exploration and preprocessing, Amazon SageMaker provides fully managed instances running Jupyter notebooks that include example code for common model training and hosting exercises.  \n",
    "Highly optimized machine learning algorithms-Amazon SageMaker installs high-performance, scalable machine learning algorithms optimized for speed, scale, and accuracy, to run on extremely large training datasets.  \n",
    "One-click training-When you're ready to train in Amazon SageMaker, simply indicate the type and quantity of instances you need and initiate training with a single click.      \n",
    "Deployment without engineering effort-After training, SageMaker provides the model artifacts and scoring images to you for deployment to Amazon EC2 or anywhere else.    "
   ]
  },
  {
   "cell_type": "code",
   "execution_count": null,
   "id": "321d60ae",
   "metadata": {},
   "outputs": [],
   "source": []
  }
 ],
 "metadata": {
  "kernelspec": {
   "display_name": "Python 3",
   "language": "python",
   "name": "python3"
  },
  "language_info": {
   "codemirror_mode": {
    "name": "ipython",
    "version": 3
   },
   "file_extension": ".py",
   "mimetype": "text/x-python",
   "name": "python",
   "nbconvert_exporter": "python",
   "pygments_lexer": "ipython3",
   "version": "3.8.8"
  }
 },
 "nbformat": 4,
 "nbformat_minor": 5
}
